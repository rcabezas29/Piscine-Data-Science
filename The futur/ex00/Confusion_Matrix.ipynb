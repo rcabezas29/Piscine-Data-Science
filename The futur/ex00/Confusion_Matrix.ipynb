{
 "cells": [
  {
   "cell_type": "code",
   "execution_count": 20,
   "metadata": {},
   "outputs": [],
   "source": [
    "import numpy as np\n",
    "import pandas as pd\n",
    "from sklearn import metrics\n",
    "import matplotlib.pyplot as plt"
   ]
  },
  {
   "cell_type": "code",
   "execution_count": 19,
   "metadata": {},
   "outputs": [],
   "source": [
    "truth = open(\"../truth.txt\",'r').read().splitlines()\n",
    "truth = [0 if x == \"Sith\" else 1 for x in truth]"
   ]
  },
  {
   "cell_type": "code",
   "execution_count": 18,
   "metadata": {},
   "outputs": [],
   "source": [
    "predictions = open(\"../predictions.txt\",'r').read().splitlines()\n",
    "predictions = [0 if x == \"Sith\" else 1 for x in predictions]"
   ]
  },
  {
   "cell_type": "code",
   "execution_count": 4,
   "metadata": {},
   "outputs": [
    {
     "data": {
      "text/plain": [
       "array([[21, 30],\n",
       "       [24, 25]])"
      ]
     },
     "execution_count": 4,
     "metadata": {},
     "output_type": "execute_result"
    }
   ],
   "source": [
    "confusion_matrix = metrics.confusion_matrix(truth, predictions)\n",
    "confusion_matrix"
   ]
  },
  {
   "cell_type": "code",
   "execution_count": 17,
   "metadata": {},
   "outputs": [
    {
     "data": {
      "text/html": [
       "<div>\n",
       "<style scoped>\n",
       "    .dataframe tbody tr th:only-of-type {\n",
       "        vertical-align: middle;\n",
       "    }\n",
       "\n",
       "    .dataframe tbody tr th {\n",
       "        vertical-align: top;\n",
       "    }\n",
       "\n",
       "    .dataframe thead th {\n",
       "        text-align: right;\n",
       "    }\n",
       "</style>\n",
       "<table border=\"1\" class=\"dataframe\">\n",
       "  <thead>\n",
       "    <tr style=\"text-align: right;\">\n",
       "      <th></th>\n",
       "      <th>precision</th>\n",
       "      <th>recall</th>\n",
       "      <th>f1-score</th>\n",
       "      <th>total</th>\n",
       "    </tr>\n",
       "  </thead>\n",
       "  <tbody>\n",
       "    <tr>\n",
       "      <th>Jedi</th>\n",
       "      <td>0.454545</td>\n",
       "      <td>0.510204</td>\n",
       "      <td>0.48</td>\n",
       "      <td>49</td>\n",
       "    </tr>\n",
       "    <tr>\n",
       "      <th>Sith</th>\n",
       "      <td>0.466667</td>\n",
       "      <td>0.411765</td>\n",
       "      <td>0.44</td>\n",
       "      <td>51</td>\n",
       "    </tr>\n",
       "    <tr>\n",
       "      <th>accuracy</th>\n",
       "      <td></td>\n",
       "      <td></td>\n",
       "      <td>0.46</td>\n",
       "      <td>100</td>\n",
       "    </tr>\n",
       "  </tbody>\n",
       "</table>\n",
       "</div>"
      ],
      "text/plain": [
       "         precision    recall  f1-score  total\n",
       "Jedi      0.454545  0.510204      0.48     49\n",
       "Sith      0.466667  0.411765      0.44     51\n",
       "accuracy                          0.46    100"
      ]
     },
     "execution_count": 17,
     "metadata": {},
     "output_type": "execute_result"
    }
   ],
   "source": [
    "conf_matrix = np.zeros((2, 2))\n",
    "for a, p in zip(truth, predictions):\n",
    "    conf_matrix[a][p] += 1\n",
    "\n",
    "precision_jedi = (conf_matrix[1][1]) / (conf_matrix[1][1] + conf_matrix[0][1])\n",
    "precision_sith = (conf_matrix[0][0]) / (conf_matrix[0][0] + conf_matrix[1][0])\n",
    "recall_jedi = conf_matrix[1][1] / (conf_matrix[1][1] + conf_matrix[1][0])\n",
    "recall_sith = conf_matrix[0][0] / (conf_matrix[0][0] + conf_matrix[0][1])\n",
    "f1score_jedi = 2 * (precision_jedi * recall_jedi) / (precision_jedi + recall_jedi)\n",
    "f1score_sith = 2 * (precision_sith * recall_sith) / (precision_sith + recall_sith)\n",
    "\n",
    "df = pd.DataFrame({\n",
    "    \"precision\": [precision_jedi, precision_sith],\n",
    "    \"recall\": [recall_jedi, recall_sith],\n",
    "    \"f1-score\": [f1score_jedi, f1score_sith],\n",
    "    \"total\": [truth.count(1), truth.count(0)]\n",
    "}, index=['Jedi', 'Sith'])\n",
    "\n",
    "df.loc['accuracy'] = ['', '', df['f1-score'].mean(), df['total'].sum()]\n",
    "df.round(2)"
   ]
  },
  {
   "cell_type": "code",
   "execution_count": 23,
   "metadata": {},
   "outputs": [
    {
     "data": {
      "image/png": "[encoded data removed]",
      "text/plain": [
       "<Figure size 640x480 with 2 Axes>"
      ]
     },
     "metadata": {},
     "output_type": "display_data"
    }
   ],
   "source": [
    "cm_display = metrics.ConfusionMatrixDisplay(conf_matrix)\n",
    "\n",
    "cm_display.plot()\n",
    "plt.show() "
   ]
  },
  {
   "cell_type": "code",
   "execution_count": null,
   "metadata": {},
   "outputs": [],
   "source": []
  }
 ],
 "metadata": {
  "kernelspec": {
   "display_name": "Python 3",
   "language": "python",
   "name": "python3"
  },
  "language_info": {
   "codemirror_mode": {
    "name": "ipython",
    "version": 3
   },
   "file_extension": ".py",
   "mimetype": "text/x-python",
   "name": "python",
   "nbconvert_exporter": "python",
   "pygments_lexer": "ipython3",
   "version": "3.11.6"
  }
 },
 "nbformat": 4,
 "nbformat_minor": 2
}
