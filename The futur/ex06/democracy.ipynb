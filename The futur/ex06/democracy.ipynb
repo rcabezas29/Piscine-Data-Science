{
 "cells": [
  {
   "cell_type": "code",
   "execution_count": 1,
   "metadata": {},
   "outputs": [],
   "source": [
    "import numpy as np\n",
    "from sklearn.linear_model import LogisticRegression\n",
    "from sklearn.ensemble import RandomForestClassifier, VotingClassifier\n",
    "from sklearn.neighbors import KNeighborsClassifier\n",
    "import pandas as pd"
   ]
  },
  {
   "cell_type": "code",
   "execution_count": 2,
   "metadata": {},
   "outputs": [],
   "source": [
    "df = pd.read_csv(\"../Train_knight.csv\")\n",
    "\n",
    "for col in df:\n",
    "\ttry:\n",
    "\t\tdf[col] = (df[col] - df[col].min()) / (df[col].max() - df[col].min())\n",
    "\texcept:\n",
    "\t\tcontinue\n",
    "\n",
    "df['knight'] = [1 if x == 'Jedi' else 0 for x in df['knight']]"
   ]
  },
  {
   "cell_type": "code",
   "execution_count": 3,
   "metadata": {},
   "outputs": [],
   "source": [
    "msk = np.random.rand(len(df)) <= 0.8\n",
    "train = df[msk]\n",
    "test = df[~msk]\n",
    "\n",
    "X_train = train.loc[:, train.columns != 'knight']\n",
    "y_train = train.loc[:, 'knight'].values\n",
    "X_test = test.loc[:, test.columns != 'knight']\n",
    "y_test = test.loc[:, 'knight'].values"
   ]
  },
  {
   "cell_type": "code",
   "execution_count": 4,
   "metadata": {},
   "outputs": [],
   "source": [
    "clf1 = LogisticRegression(multi_class='multinomial', random_state=1)\n",
    "clf2 = RandomForestClassifier(n_estimators=50, random_state=1)\n",
    "clf3 = KNeighborsClassifier(n_neighbors=11)\n",
    "\n",
    "eclf1 = VotingClassifier(estimators=[('lr', clf1), ('rf', clf2), ('gnb', clf3)], voting='hard')\n",
    "eclf1 = eclf1.fit(X_train, y_train)"
   ]
  },
  {
   "cell_type": "code",
   "execution_count": 5,
   "metadata": {},
   "outputs": [
    {
     "data": {
      "text/html": [
       "<div>\n",
       "<style scoped>\n",
       "    .dataframe tbody tr th:only-of-type {\n",
       "        vertical-align: middle;\n",
       "    }\n",
       "\n",
       "    .dataframe tbody tr th {\n",
       "        vertical-align: top;\n",
       "    }\n",
       "\n",
       "    .dataframe thead th {\n",
       "        text-align: right;\n",
       "    }\n",
       "</style>\n",
       "<table border=\"1\" class=\"dataframe\">\n",
       "  <thead>\n",
       "    <tr style=\"text-align: right;\">\n",
       "      <th></th>\n",
       "      <th>precision</th>\n",
       "      <th>recall</th>\n",
       "      <th>f1-score</th>\n",
       "      <th>total</th>\n",
       "    </tr>\n",
       "  </thead>\n",
       "  <tbody>\n",
       "    <tr>\n",
       "      <th>Jedi</th>\n",
       "      <td>0.96</td>\n",
       "      <td>0.923077</td>\n",
       "      <td>0.94</td>\n",
       "      <td>49</td>\n",
       "    </tr>\n",
       "    <tr>\n",
       "      <th>Sith</th>\n",
       "      <td>0.96</td>\n",
       "      <td>0.979592</td>\n",
       "      <td>0.97</td>\n",
       "      <td>26</td>\n",
       "    </tr>\n",
       "    <tr>\n",
       "      <th>accuracy</th>\n",
       "      <td></td>\n",
       "      <td></td>\n",
       "      <td>0.96</td>\n",
       "      <td>75</td>\n",
       "    </tr>\n",
       "  </tbody>\n",
       "</table>\n",
       "</div>"
      ],
      "text/plain": [
       "         precision    recall  f1-score  total\n",
       "Jedi          0.96  0.923077      0.94     49\n",
       "Sith          0.96  0.979592      0.97     26\n",
       "accuracy                          0.96     75"
      ]
     },
     "execution_count": 5,
     "metadata": {},
     "output_type": "execute_result"
    }
   ],
   "source": [
    "predictions = eclf1.predict(X_test)\n",
    "\n",
    "conf_matrix = np.zeros((2, 2))\n",
    "for a, p in zip(y_test, predictions):\n",
    "    conf_matrix[a][p] += 1\n",
    "\n",
    "precision_jedi = (conf_matrix[1][1]) / (conf_matrix[1][1] + conf_matrix[0][1])\n",
    "precision_sith = (conf_matrix[0][0]) / (conf_matrix[0][0] + conf_matrix[1][0])\n",
    "\n",
    "recall_jedi = conf_matrix[1][1] / (conf_matrix[1][1] + conf_matrix[1][0])\n",
    "recall_sith = conf_matrix[0][0] / (conf_matrix[0][0] + conf_matrix[0][1])\n",
    "\n",
    "f1score_jedi = 2 * (precision_jedi * recall_jedi) / (precision_jedi + recall_jedi)\n",
    "f1score_sith = 2 * (precision_sith * recall_sith) / (precision_sith + recall_sith)\n",
    "\n",
    "unique, counts = np.unique(y_test, return_counts=True)\n",
    "\n",
    "df = pd.DataFrame({\n",
    "    \"precision\": [precision_jedi, precision_sith],\n",
    "    \"recall\": [recall_jedi, recall_sith],\n",
    "    \"f1-score\": [f1score_jedi, f1score_sith],\n",
    "    \"total\": [counts[0], counts[1]]\n",
    "}, index=['Jedi', 'Sith'])\n",
    "\n",
    "df.loc['accuracy'] = ['', '', df['f1-score'].mean(), df['total'].sum()]\n",
    "df.round(2)"
   ]
  }
 ],
 "metadata": {
  "kernelspec": {
   "display_name": "Python 3",
   "language": "python",
   "name": "python3"
  },
  "language_info": {
   "codemirror_mode": {
    "name": "ipython",
    "version": 3
   },
   "file_extension": ".py",
   "mimetype": "text/x-python",
   "name": "python",
   "nbconvert_exporter": "python",
   "pygments_lexer": "ipython3",
   "version": "3.11.6"
  }
 },
 "nbformat": 4,
 "nbformat_minor": 2
}
